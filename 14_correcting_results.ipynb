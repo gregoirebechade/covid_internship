{
 "cells": [
  {
   "cell_type": "markdown",
   "metadata": {},
   "source": [
    "This file is to correct infs in the dataframes. \n",
    "\n",
    "When the value is inf, we replace it by the prediction of the monving average. \n",
    "\n",
    "We do the same for the losses, and we add a little epsilon to avoid models to perform better than MA when the computations fails. "
   ]
  },
  {
   "cell_type": "code",
   "execution_count": null,
   "metadata": {},
   "outputs": [],
   "source": [
    "import os\n",
    "import pandas as pd\n",
    "import numpy as np\n",
    "import json\n",
    "\n",
    "models1Dnames=['ARIMA', 'Exponential', 'Moving Average', 'SIRH1', 'SIRH2', 'SIRH3', 'SIRH4', 'Linear Regression', 'Bayesian Regression']\n",
    "models3Dnames=[ 'VAR', 'Exponential Multi', 'Moving Average Multi', 'SIRH Multi1', 'SIRH Multi2']"
   ]
  },
  {
   "cell_type": "code",
   "execution_count": null,
   "metadata": {},
   "outputs": [],
   "source": [
    "if False : \n",
    "    names = os.listdir('./results/global_evaluation_from_zero/') \n",
    "    for name in names: \n",
    "        df=pd.DataFrame(json.load(open('./results/global_evaluation_from_zero/'+name)))\n",
    "        if len(df.index) == 9 : \n",
    "            df.index=models1Dnames\n",
    "        elif len(df.index) == 5 :\n",
    "            df.index=models3Dnames\n",
    "        else : \n",
    "            raise ValueError('error')\n",
    "\n",
    "        for col in df.columns: \n",
    "            for row in df.index: \n",
    "                if df[col][row]==np.inf: \n",
    "                    if len(df.index) == 9 : \n",
    "                        df[col][row]=df[col]['Moving Average'] + 0.00001\n",
    "                    elif len(df.index) == 5 :\n",
    "                        df[col][row]=df[col]['Moving Average Multi'] + 0.00001\n",
    "                    else : \n",
    "                        raise ValueError('error')\n",
    "        if '1D' in name : \n",
    "            df.index=[i for i in range(9)]\n",
    "        elif '3D' in name : \n",
    "            df.index=[i for i in range(5)]\n",
    "        else : \n",
    "            raise ValueError('error')\n",
    "        df.to_csv('./results/global_evaluation_from_zero_corrected/'+name.split('.')[0]+'.csv')\n"
   ]
  },
  {
   "cell_type": "code",
   "execution_count": null,
   "metadata": {},
   "outputs": [],
   "source": [
    "if False: \n",
    "    names = os.listdir('./results/predictions_of_the_models/')\n",
    "    for name in names : \n",
    "        df=pd.read_csv('./results/predictions_of_the_models/'+name)\n",
    "        df=df.set_index('Unnamed: 0')\n",
    "\n",
    "        for col in df.columns:\n",
    "            for row in df.index: \n",
    "                if df[col][row]==np.inf: \n",
    "                    df[col][row]=df['Moving Average'][row]\n",
    "\n",
    "        df.to_csv('./results/predictions_of_the_models_corrected/'+name)\n"
   ]
  }
 ],
 "metadata": {
  "language_info": {
   "name": "python"
  }
 },
 "nbformat": 4,
 "nbformat_minor": 2
}
