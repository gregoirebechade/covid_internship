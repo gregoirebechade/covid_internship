{
 "cells": [
  {
   "cell_type": "code",
   "execution_count": 20,
   "metadata": {},
   "outputs": [],
   "source": [
    "import sys\n",
    "sys.path.append('./models/')\n",
    "from Model import Model\n",
    "from Arima import ARIMA_Model, VAR_m\n",
    "from exponential_regression import ExponentialRegression, MultiDimensionalExponentialRegression\n",
    "from SIRH  import *\n",
    "from LinearRegression import *\n",
    "from BayesianRegression import *\n",
    "from moving_average import MovingAverage, MovingAverageMulti\n",
    "import pandas as pd\n",
    "import numpy as np\n",
    "import matplotlib.pyplot as plt\n",
    "from evaluate_model import evaluate_model, evaluate_model_multi, evaluate_model_multi_RMSE, evaluate_model_RMSE\n",
    "import json"
   ]
  },
  {
   "cell_type": "code",
   "execution_count": 21,
   "metadata": {},
   "outputs": [],
   "source": [
    "df=pd.read_csv('hopitalized_and_infectious.csv')\n",
    "df.drop(['Unnamed: 0'], axis=1, inplace=True)\n",
    "n_hospitalized=np.array(df['hospitalized'])\n",
    "n_infectious=np.array(df['n_infectious'])\n"
   ]
  },
  {
   "cell_type": "code",
   "execution_count": 22,
   "metadata": {},
   "outputs": [],
   "source": [
    "# importing mobility from the csv file\n",
    "df_mobility=pd.read_csv('mobility_bis.csv')\n",
    "df_mobility.drop(columns=['Unnamed: 0'], inplace=True)\n",
    "mobility=np.array(df_mobility['mobility'])\n"
   ]
  },
  {
   "cell_type": "code",
   "execution_count": 23,
   "metadata": {},
   "outputs": [],
   "source": [
    "relier_les_points=[]\n",
    "for i in range(len(mobility)): \n",
    "    if i + 7 < len(mobility): \n",
    "        if i % 7 ==0:\n",
    "            relier_les_points.append(mobility[i])\n",
    "        else: \n",
    "            decalage=i-7*(i//7)\n",
    "            res = (1-decalage/7)*mobility[7*(i//7)] + (decalage/7)*mobility[7*(i//7)+7]\n",
    "\n",
    "            relier_les_points.append(res)\n",
    "    else:\n",
    "        relier_les_points.append(mobility[i])\n",
    "mobility_smoothed=np.array(relier_les_points)\n",
    "data3D=np.array([n_hospitalized, n_infectious, mobility_smoothed])"
   ]
  },
  {
   "cell_type": "code",
   "execution_count": 24,
   "metadata": {},
   "outputs": [],
   "source": [
    "myarima=ARIMA_Model()\n",
    "mysirh=SIRH_model_2()\n",
    "mysirh.choose_model(True, False, True)\n",
    "mybayes=BayesianRegressionModel()\n",
    "mylinear=LinearRegressionModel()\n",
    "alphas=np.array([0.02, 0.05, 0.1, 0.2, 0.3, 0.4, 0.5, 0.6, 0.7, 0.8, 0.9])\n",
    "indexs_points=[[20*i] for i in range(1, 15) ]\n",
    "weights=np.concatenate((np.array([0.5]), alphas * 0.5))\n",
    "    "
   ]
  },
  {
   "cell_type": "code",
   "execution_count": 25,
   "metadata": {},
   "outputs": [],
   "source": [
    "def generate_prediction(model: Model, data: np.array, alphas: list, start: int, reach: int, weights: list):\n",
    "    print(type(start))\n",
    "    model.train(train_dates = [i for i in range(start)], data = data[:start] )\n",
    "    intervals=[]\n",
    "    for alpha in alphas:\n",
    "        print(reach, alpha)\n",
    "        prediction, interval = model.predict(reach, alpha)\n",
    "        interval_low=interval[0][-1]\n",
    "        interval_high=interval[1][-1]\n",
    "        intervals.append((interval_low, interval_high))\n",
    "    prediction=prediction[-1]\n",
    "    return intervals, prediction"
   ]
  },
  {
   "cell_type": "code",
   "execution_count": 45,
   "metadata": {},
   "outputs": [
    {
     "name": "stdout",
     "output_type": "stream",
     "text": [
      "1\n",
      "<class 'int'>\n",
      "<class 'int'>\n"
     ]
    },
    {
     "name": "stderr",
     "output_type": "stream",
     "text": [
      "c:\\Users\\grego\\Miniconda3\\envs\\E4C\\Lib\\site-packages\\statsmodels\\tsa\\statespace\\sarimax.py:966: UserWarning: Non-stationary starting autoregressive parameters found. Using zeros as starting parameters.\n",
      "  warn('Non-stationary starting autoregressive parameters'\n",
      "c:\\Users\\grego\\Miniconda3\\envs\\E4C\\Lib\\site-packages\\statsmodels\\tsa\\statespace\\sarimax.py:978: UserWarning: Non-invertible starting MA parameters found. Using zeros as starting parameters.\n",
      "  warn('Non-invertible starting MA parameters found.'\n",
      "c:\\Users\\grego\\Miniconda3\\envs\\E4C\\Lib\\site-packages\\statsmodels\\base\\model.py:607: ConvergenceWarning: Maximum Likelihood optimization failed to converge. Check mle_retvals\n",
      "  warnings.warn(\"Maximum Likelihood optimization failed to \"\n"
     ]
    },
    {
     "name": "stdout",
     "output_type": "stream",
     "text": [
      "1 0.02\n",
      "1 0.05\n",
      "1 0.1\n",
      "1 0.2\n",
      "1 0.3\n",
      "1 0.4\n",
      "1 0.5\n",
      "1 0.6\n",
      "1 0.7\n",
      "1 0.8\n",
      "1 0.9\n",
      "2\n",
      "<class 'int'>\n",
      "<class 'int'>\n"
     ]
    },
    {
     "name": "stderr",
     "output_type": "stream",
     "text": [
      "c:\\Users\\grego\\Miniconda3\\envs\\E4C\\Lib\\site-packages\\statsmodels\\base\\model.py:607: ConvergenceWarning: Maximum Likelihood optimization failed to converge. Check mle_retvals\n",
      "  warnings.warn(\"Maximum Likelihood optimization failed to \"\n"
     ]
    },
    {
     "name": "stdout",
     "output_type": "stream",
     "text": [
      "2 0.02\n",
      "2 0.05\n",
      "2 0.1\n",
      "2 0.2\n",
      "2 0.3\n",
      "2 0.4\n",
      "2 0.5\n",
      "2 0.6\n",
      "2 0.7\n",
      "2 0.8\n",
      "2 0.9\n",
      "3\n",
      "<class 'int'>\n",
      "<class 'int'>\n"
     ]
    },
    {
     "name": "stderr",
     "output_type": "stream",
     "text": [
      "c:\\Users\\grego\\Miniconda3\\envs\\E4C\\Lib\\site-packages\\statsmodels\\base\\model.py:607: ConvergenceWarning: Maximum Likelihood optimization failed to converge. Check mle_retvals\n",
      "  warnings.warn(\"Maximum Likelihood optimization failed to \"\n"
     ]
    },
    {
     "name": "stdout",
     "output_type": "stream",
     "text": [
      "3 0.02\n",
      "3 0.05\n",
      "3 0.1\n",
      "3 0.2\n",
      "3 0.3\n",
      "3 0.4\n",
      "3 0.5\n",
      "3 0.6\n",
      "3 0.7\n",
      "3 0.8\n",
      "3 0.9\n",
      "4\n",
      "<class 'int'>\n",
      "<class 'int'>\n"
     ]
    },
    {
     "name": "stderr",
     "output_type": "stream",
     "text": [
      "c:\\Users\\grego\\Miniconda3\\envs\\E4C\\Lib\\site-packages\\statsmodels\\base\\model.py:607: ConvergenceWarning: Maximum Likelihood optimization failed to converge. Check mle_retvals\n",
      "  warnings.warn(\"Maximum Likelihood optimization failed to \"\n"
     ]
    },
    {
     "name": "stdout",
     "output_type": "stream",
     "text": [
      "4 0.02\n",
      "4 0.05\n",
      "4 0.1\n",
      "4 0.2\n",
      "4 0.3\n",
      "4 0.4\n",
      "4 0.5\n",
      "4 0.6\n",
      "4 0.7\n",
      "4 0.8\n",
      "4 0.9\n",
      "5\n",
      "<class 'int'>\n",
      "<class 'int'>\n"
     ]
    },
    {
     "name": "stderr",
     "output_type": "stream",
     "text": [
      "c:\\Users\\grego\\Miniconda3\\envs\\E4C\\Lib\\site-packages\\statsmodels\\base\\model.py:607: ConvergenceWarning: Maximum Likelihood optimization failed to converge. Check mle_retvals\n",
      "  warnings.warn(\"Maximum Likelihood optimization failed to \"\n"
     ]
    },
    {
     "name": "stdout",
     "output_type": "stream",
     "text": [
      "5 0.02\n",
      "5 0.05\n",
      "5 0.1\n",
      "5 0.2\n",
      "5 0.3\n",
      "5 0.4\n",
      "5 0.5\n",
      "5 0.6\n",
      "5 0.7\n",
      "5 0.8\n",
      "5 0.9\n",
      "6\n",
      "<class 'int'>\n",
      "<class 'int'>\n"
     ]
    },
    {
     "name": "stderr",
     "output_type": "stream",
     "text": [
      "c:\\Users\\grego\\Miniconda3\\envs\\E4C\\Lib\\site-packages\\statsmodels\\base\\model.py:607: ConvergenceWarning: Maximum Likelihood optimization failed to converge. Check mle_retvals\n",
      "  warnings.warn(\"Maximum Likelihood optimization failed to \"\n"
     ]
    },
    {
     "name": "stdout",
     "output_type": "stream",
     "text": [
      "6 0.02\n",
      "6 0.05\n",
      "6 0.1\n",
      "6 0.2\n",
      "6 0.3\n",
      "6 0.4\n",
      "6 0.5\n",
      "6 0.6\n",
      "6 0.7\n",
      "6 0.8\n",
      "6 0.9\n",
      "7\n",
      "<class 'int'>\n",
      "<class 'int'>\n"
     ]
    },
    {
     "name": "stderr",
     "output_type": "stream",
     "text": [
      "c:\\Users\\grego\\Miniconda3\\envs\\E4C\\Lib\\site-packages\\statsmodels\\base\\model.py:607: ConvergenceWarning: Maximum Likelihood optimization failed to converge. Check mle_retvals\n",
      "  warnings.warn(\"Maximum Likelihood optimization failed to \"\n"
     ]
    },
    {
     "name": "stdout",
     "output_type": "stream",
     "text": [
      "7 0.02\n",
      "7 0.05\n",
      "7 0.1\n",
      "7 0.2\n",
      "7 0.3\n",
      "7 0.4\n",
      "7 0.5\n",
      "7 0.6\n",
      "7 0.7\n",
      "7 0.8\n",
      "7 0.9\n",
      "8\n",
      "<class 'int'>\n",
      "<class 'int'>\n"
     ]
    },
    {
     "name": "stderr",
     "output_type": "stream",
     "text": [
      "c:\\Users\\grego\\Miniconda3\\envs\\E4C\\Lib\\site-packages\\statsmodels\\base\\model.py:607: ConvergenceWarning: Maximum Likelihood optimization failed to converge. Check mle_retvals\n",
      "  warnings.warn(\"Maximum Likelihood optimization failed to \"\n"
     ]
    },
    {
     "name": "stdout",
     "output_type": "stream",
     "text": [
      "8 0.02\n",
      "8 0.05\n",
      "8 0.1\n",
      "8 0.2\n",
      "8 0.3\n",
      "8 0.4\n",
      "8 0.5\n",
      "8 0.6\n",
      "8 0.7\n",
      "8 0.8\n",
      "8 0.9\n",
      "9\n",
      "<class 'int'>\n",
      "<class 'int'>\n",
      "9 0.02\n",
      "9 0.05\n",
      "9 0.1\n",
      "9 0.2\n",
      "9 0.3\n",
      "9 0.4\n",
      "9 0.5\n",
      "9 0.6\n",
      "9 0.7\n",
      "9 0.8\n",
      "9 0.9\n"
     ]
    },
    {
     "name": "stderr",
     "output_type": "stream",
     "text": [
      "c:\\Users\\grego\\Miniconda3\\envs\\E4C\\Lib\\site-packages\\statsmodels\\base\\model.py:607: ConvergenceWarning: Maximum Likelihood optimization failed to converge. Check mle_retvals\n",
      "  warnings.warn(\"Maximum Likelihood optimization failed to \"\n"
     ]
    }
   ],
   "source": [
    "start_date=30\n",
    "horizon=10\n",
    "reach=[i for i in range(1, 10)]\n",
    "predict=[]\n",
    "CI=[]\n",
    "for R in reach:\n",
    "    print(R)\n",
    "    print(type(R))\n",
    "    intervals, prediction=generate_prediction(model=myarima, data=n_hospitalized, alphas=alphas, start=start_date, reach=R, weights=weights)\n",
    "    predict.append(prediction)\n",
    "    CI.append(intervals[0])"
   ]
  },
  {
   "cell_type": "code",
   "execution_count": 67,
   "metadata": {},
   "outputs": [
    {
     "data": {
      "image/png": "[encoded data removed]",
      "text/plain": [
       "<Figure size 500x500 with 1 Axes>"
      ]
     },
     "metadata": {},
     "output_type": "display_data"
    }
   ],
   "source": [
    "dates=np.arange(start_date+1,start_date+horizon)\n",
    "ci = np.asarray(CI)\n",
    "plt.figure(figsize=(5,5), dpi=100)\n",
    "plt.plot(n_hospitalized[0:start_date+1], label='training')\n",
    "plt.plot(dates,predict)\n",
    "plt.fill_between(dates,ci[:,0], ci[:,1], color='black', alpha=.3, label='95% confidence interval')\n",
    "plt.xlabel('dagar')\n",
    "plt.ylabel('sjukhusinläggningar')\n",
    "plt.savefig('linear.pdf')"
   ]
  },
  {
   "cell_type": "code",
   "execution_count": 68,
   "metadata": {},
   "outputs": [
    {
     "name": "stdout",
     "output_type": "stream",
     "text": [
      "[(nan, nan), (54.295954598605235, 64.68026276074951), (54.79112803460012, 76.16910645992081), (55.52499756834351, 88.51949340820451), (56.5426038143798, 101.78728358781596), (57.895234172853485, 116.03132221983543), (59.641183261868996, 131.3135199250778), (61.846598335591274, 147.69892364817332), (64.58641834780562, 165.2557763591972)]\n"
     ]
    }
   ],
   "source": [
    "ci = np.asarray(CI)\n",
    "print(CI)"
   ]
  },
  {
   "cell_type": "code",
   "execution_count": null,
   "metadata": {},
   "outputs": [],
   "source": []
  }
 ],
 "metadata": {
  "kernelspec": {
   "display_name": "E4C",
   "language": "python",
   "name": "python3"
  },
  "language_info": {
   "codemirror_mode": {
    "name": "ipython",
    "version": 3
   },
   "file_extension": ".py",
   "mimetype": "text/x-python",
   "name": "python",
   "nbconvert_exporter": "python",
   "pygments_lexer": "ipython3",
   "version": "3.12.1"
  }
 },
 "nbformat": 4,
 "nbformat_minor": 4
}
