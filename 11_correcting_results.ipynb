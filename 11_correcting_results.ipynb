{
 "cells": [
  {
   "cell_type": "markdown",
   "metadata": {},
   "source": [
    "This file is to correct infs in the dataframes. \n",
    "\n",
    "When the value is inf, we replace it by the prediction of the monving average. \n",
    "\n",
    "We do the same for the losses, and we add a little epsilon to avoid models to perform better than MA when the computations fails. "
   ]
  },
  {
   "cell_type": "code",
   "execution_count": 2,
   "metadata": {},
   "outputs": [],
   "source": [
    "import os\n",
    "import pandas as pd\n",
    "import numpy as np\n",
    "import json\n",
    "\n",
    "models1Dnames=['ARIMA', 'Exponential', 'Moving Average', 'SIRH1', 'SIRH2', 'SIRH3', 'SIRH4', 'Linear Regression', 'Bayesian Regression']\n",
    "models3Dnames=[ 'VAR', 'Exponential Multi', 'Moving Average Multi', 'SIRH Multi1', 'SIRH Multi2']"
   ]
  },
  {
   "cell_type": "code",
   "execution_count": 3,
   "metadata": {},
   "outputs": [
    {
     "data": {
      "text/plain": [
       "['evaluation_with_RMSE_of_1D_models_on_pandemic_test_sweden_and_reach_=14.json',\n",
       " 'evaluation_with_RMSE_of_1D_models_on_pandemic_test_sweden_and_reach_=7.json',\n",
       " 'evaluation_with_RMSE_of_3D_models_on_pandemic_test_sweden_and_reach_=14.json',\n",
       " 'evaluation_with_RMSE_of_3D_models_on_pandemic_test_sweden_and_reach_=7.json',\n",
       " 'evaluation_with_WIS_of_1D_models_on_pandemic_test_sweden_and_reach_=14.json',\n",
       " 'evaluation_with_WIS_of_1D_models_on_pandemic_test_sweden_and_reach_=7.json',\n",
       " 'evaluation_with_WIS_of_3D_models_on_pandemic_test_sweden_and_reach_=14.json',\n",
       " 'evaluation_with_WIS_of_3D_models_on_pandemic_test_sweden_and_reach_=7.json']"
      ]
     },
     "execution_count": 3,
     "metadata": {},
     "output_type": "execute_result"
    }
   ],
   "source": [
    "names = os.listdir('./results/global_evaluation_from_zero/') \n",
    "[ name for name in names if 'sweden' in name]"
   ]
  },
  {
   "cell_type": "code",
   "execution_count": 6,
   "metadata": {},
   "outputs": [],
   "source": [
    "if False : \n",
    "    names = os.listdir('./results/global_evaluation_from_zero/') \n",
    "    for name in names: \n",
    "        df=pd.DataFrame(json.load(open('./results/global_evaluation_from_zero/'+name)))\n",
    "        if len(df.index) == 9 : \n",
    "            df.index=models1Dnames\n",
    "        elif len(df.index) == 5 :\n",
    "            df.index=models3Dnames\n",
    "        else : \n",
    "            raise ValueError('error')\n",
    "\n",
    "        for col in df.columns: \n",
    "            for row in df.index: \n",
    "                if df[col][row]==np.inf: \n",
    "                    if len(df.index) == 9 : \n",
    "                        df[col][row]=df[col]['Moving Average'] + 0.00001\n",
    "                    elif len(df.index) == 5 :\n",
    "                        df[col][row]=df[col]['Moving Average Multi'] + 0.00001\n",
    "                    else : \n",
    "                        raise ValueError('error')\n",
    "        if '1D' in name : \n",
    "            df.index=[i for i in range(9)]\n",
    "        elif '3D' in name : \n",
    "            df.index=[i for i in range(5)]\n",
    "        else : \n",
    "            raise ValueError('error')\n",
    "        df.to_csv('./results/global_evaluation_from_zero_corrected/'+name.split('.')[0]+'.csv')\n"
   ]
  },
  {
   "cell_type": "code",
   "execution_count": 5,
   "metadata": {},
   "outputs": [],
   "source": [
    "if False: \n",
    "    names = os.listdir('./results/predictions_of_the_models/')\n",
    "\n",
    "    for name in names : \n",
    "        df=pd.read_csv('./results/predictions_of_the_models/'+name)\n",
    "        df=df.set_index('Unnamed: 0')\n",
    "\n",
    "        for col in df.columns:\n",
    "            for row in df.index: \n",
    "                if df[col][row]==np.inf: \n",
    "                    df[col][row]=df['Moving Average'][row]\n",
    "\n",
    "        df.to_csv('./results/predictions_of_the_models_corrected/'+name)\n"
   ]
  }
 ],
 "metadata": {
  "kernelspec": {
   "display_name": "env_qcm",
   "language": "python",
   "name": "python3"
  },
  "language_info": {
   "codemirror_mode": {
    "name": "ipython",
    "version": 3
   },
   "file_extension": ".py",
   "mimetype": "text/x-python",
   "name": "python",
   "nbconvert_exporter": "python",
   "pygments_lexer": "ipython3",
   "version": "3.8.17"
  }
 },
 "nbformat": 4,
 "nbformat_minor": 2
}
