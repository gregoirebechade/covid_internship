{
 "cells": [
  {
   "cell_type": "code",
   "execution_count": 1,
   "metadata": {},
   "outputs": [
    {
     "name": "stderr",
     "output_type": "stream",
     "text": [
      "c:\\Users\\grego\\Documents\\code\\covid_internship\\./models\\SIR.py:335: SyntaxWarning: assertion is always true, perhaps remove parentheses?\n",
      "  assert(len(vars)==reach, str(len(vars)) + 'different from ' + str(reach))\n"
     ]
    }
   ],
   "source": [
    "import sys\n",
    "sys.path.append('./models/')\n",
    "from Arima import ARIMA_Model\n",
    "from SIR  import *\n",
    "from exponential_regression import ExponentialRegression\n",
    "from moving_average import MovingAverage\n",
    "from Truth import Truth\n",
    "import pandas as pd\n",
    "import numpy as np\n",
    "import matplotlib.pyplot as plt\n",
    "from evaluate_model import evaluate_model\n",
    "import json\n",
    "\n",
    "df = pd.read_csv('deaths_and_infections.csv')\n",
    "\n",
    "# remove a columns from a df: \n",
    "df.drop(columns=['Unnamed: 0'], inplace=True)\n",
    "new_deaths=np.array(df['new_deaths'])\n",
    "death_cumul=np.array([sum(new_deaths[:i]) for i in range(len(new_deaths))])\n",
    "dates_of_pandemic=np.arange(len(new_deaths))"
   ]
  },
  {
   "cell_type": "code",
   "execution_count": null,
   "metadata": {},
   "outputs": [],
   "source": [
    "myarima=ARIMA_Model()\n",
    "mysir=SIRD_model_2()\n",
    "myexp=ExponentialRegression()\n",
    "mymoving=MovingAverage()\n",
    "truth=Truth()\n",
    "alphas=[0.05,0.1,0.5]\n",
    "indexs_points=[[30], [40], [50], [60], [70], [80], [90], [100], [110]]\n",
    "reach=7\n",
    "weights=[1,1,1,1]"
   ]
  },
  {
   "cell_type": "code",
   "execution_count": null,
   "metadata": {},
   "outputs": [],
   "source": [
    "dicoresults=dict()"
   ]
  },
  {
   "cell_type": "code",
   "execution_count": null,
   "metadata": {},
   "outputs": [],
   "source": [
    "for index_points in indexs_points:\n",
    "    try: \n",
    "        perf_sir=evaluate_model(model=mysir, data=new_deaths, alphas=alphas, evaluation_point_indexs=index_points, reach=reach, weights=weights)\n",
    "    except :\n",
    "        perf_sir=np.inf\n",
    "    try:  \n",
    "        perf_exp=evaluate_model(model=myexp, data=new_deaths, alphas=alphas, evaluation_point_indexs=index_points, reach=reach, weights=weights)\n",
    "    except:\n",
    "        perf_exp=np.inf\n",
    "    try:\n",
    "        perf_moving=evaluate_model(model=mymoving, data=new_deaths, alphas=alphas, evaluation_point_indexs=index_points, reach=reach, weights=weights)\n",
    "    except: \n",
    "        perf_moving=np.inf\n",
    "    try:\n",
    "        perf_arima=evaluate_model(model=myarima, data=new_deaths, alphas=alphas, evaluation_point_indexs=index_points, reach=reach, weights=weights)\n",
    "    except:\n",
    "        perf_arima=np.inf\n",
    "    dicoresults[str(index_points)]=[perf_sir, perf_exp, perf_moving, perf_arima]\n",
    "    \n",
    "# write results: \n",
    "with open('comparing_models.json', 'w') as f:\n",
    "    json.dump(dicoresults, f)"
   ]
  },
  {
   "cell_type": "code",
   "execution_count": 5,
   "metadata": {},
   "outputs": [],
   "source": [
    "with open('compte_rendu.txt', 'a') as myfile: \n",
    "    for point in dicoresults.keys(): \n",
    "        myfile.write('For the point: '+point+'\\n')\n",
    "        myfile.write('The best model is ' + str(np.argmin(dicoresults[point]))+'\\n')\n",
    "        myfile.write()\n"
   ]
  },
  {
   "cell_type": "code",
   "execution_count": null,
   "metadata": {},
   "outputs": [],
   "source": []
  },
  {
   "cell_type": "code",
   "execution_count": null,
   "metadata": {},
   "outputs": [],
   "source": []
  }
 ],
 "metadata": {
  "kernelspec": {
   "display_name": "env_qcm",
   "language": "python",
   "name": "python3"
  },
  "language_info": {
   "codemirror_mode": {
    "name": "ipython",
    "version": 3
   },
   "file_extension": ".py",
   "mimetype": "text/x-python",
   "name": "python",
   "nbconvert_exporter": "python",
   "pygments_lexer": "ipython3",
   "version": "3.8.17"
  }
 },
 "nbformat": 4,
 "nbformat_minor": 2
}
