{
 "cells": [
  {
   "cell_type": "code",
   "execution_count": 2,
   "metadata": {},
   "outputs": [],
   "source": [
    "import os \n",
    "import sys\n",
    "import json\n",
    "import pandas as pd\n",
    "import numpy as np\n",
    "import matplotlib.pyplot as plt"
   ]
  },
  {
   "cell_type": "code",
   "execution_count": 3,
   "metadata": {},
   "outputs": [],
   "source": [
    "names2=os.listdir('./results/global_evaluation_bis/')\n",
    "names1=os.listdir('./results/global_evaluation/')"
   ]
  },
  {
   "cell_type": "code",
   "execution_count": 70,
   "metadata": {},
   "outputs": [
    {
     "name": "stdout",
     "output_type": "stream",
     "text": [
      "25.175683718376362 25.09088452703289\n",
      "last\n"
     ]
    },
    {
     "data": {
      "text/plain": [
       "64"
      ]
     },
     "execution_count": 70,
     "metadata": {},
     "output_type": "execute_result"
    }
   ],
   "source": [
    "count=0\n",
    "for name in names2: \n",
    "    if name in names1 : \n",
    "        count+=1\n",
    "        dico1=json.load(open('./results/global_evaluation/'+name))\n",
    "        dico2=json.load(open('./results/global_evaluation_bis/'+name))\n",
    "        if [len(dico1[key]) for key in dico1.keys()] != [len(dico2[key]) for key in dico2.keys()] : \n",
    "            dico1=json.load(open('./results/global_evaluation/'+name))\n",
    "            dico2=json.load(open('./results/global_evaluation_bis/'+name))\n",
    "            for i in range(len(list(dico1.keys()))):\n",
    "                key = list(dico1.keys())[i]\n",
    "                if len(dico1[key])!=len(dico2[key]) :\n",
    "                    list1=dico1[key]\n",
    "                    list2=dico2[key]\n",
    "                    index=list2.index(np.inf)\n",
    "                    try : \n",
    "                        if (list1[index+1] -  list2[index+2]) > 0.001 : \n",
    "                            print(list1[index+1],list2[index+2])\n",
    "                            print('last')\n",
    "                    except : \n",
    "                        pass\n",
    "count"
   ]
  },
  {
   "cell_type": "code",
   "execution_count": 63,
   "metadata": {},
   "outputs": [],
   "source": [
    "dico1=json.load(open('./results/global_evaluation/evaluation_with_WIS_of_3D_models_on_pandemic_0_29_and_reach_=14.json'))\n",
    "dico2=json.load(open('./results/global_evaluation_bis/evaluation_with_WIS_of_3D_models_on_pandemic_0_29_and_reach_=14.json'))"
   ]
  },
  {
   "cell_type": "code",
   "execution_count": 64,
   "metadata": {},
   "outputs": [
    {
     "name": "stdout",
     "output_type": "stream",
     "text": [
      "[20]\n",
      "evaluation_with_WIS_of_3D_models_on_pandemic_0_29_and_reach_=14.json\n",
      "[40]\n",
      "[60]\n",
      "[80]\n",
      "[100]\n"
     ]
    },
    {
     "ename": "IndexError",
     "evalue": "list index out of range",
     "output_type": "error",
     "traceback": [
      "\u001b[1;31m---------------------------------------------------------------------------\u001b[0m",
      "\u001b[1;31mIndexError\u001b[0m                                Traceback (most recent call last)",
      "Cell \u001b[1;32mIn[64], line 8\u001b[0m\n\u001b[0;32m      6\u001b[0m list2\u001b[38;5;241m=\u001b[39mdico2[key]\n\u001b[0;32m      7\u001b[0m index\u001b[38;5;241m=\u001b[39mlist2\u001b[38;5;241m.\u001b[39mindex(np\u001b[38;5;241m.\u001b[39minf)\n\u001b[1;32m----> 8\u001b[0m \u001b[38;5;28;01mif\u001b[39;00m (\u001b[43mlist1\u001b[49m\u001b[43m[\u001b[49m\u001b[43mindex\u001b[49m\u001b[38;5;241;43m+\u001b[39;49m\u001b[38;5;241;43m1\u001b[39;49m\u001b[43m]\u001b[49m \u001b[38;5;241m-\u001b[39m  list2[index\u001b[38;5;241m+\u001b[39m\u001b[38;5;241m2\u001b[39m]) \u001b[38;5;241m>\u001b[39m \u001b[38;5;241m0.001\u001b[39m : \n\u001b[0;32m      9\u001b[0m     \u001b[38;5;28mprint\u001b[39m(name)\n",
      "\u001b[1;31mIndexError\u001b[0m: list index out of range"
     ]
    }
   ],
   "source": [
    "for i in range(len(list(dico1.keys()))):\n",
    "    key = list(dico1.keys())[i]\n",
    "    print(key)\n",
    "    if len(dico1[key])!=len(dico2[key]) :\n",
    "        list1=dico1[key]\n",
    "        list2=dico2[key]\n",
    "        index=list2.index(np.inf)\n",
    "        if (list1[index+1] -  list2[index+2]) > 0.001 : \n",
    "            print(name)"
   ]
  },
  {
   "cell_type": "code",
   "execution_count": 66,
   "metadata": {},
   "outputs": [
    {
     "data": {
      "text/plain": [
       "[19.28366274454855,\n",
       " 4.9595299073104,\n",
       " 109.01152427942831,\n",
       " 44.89718711561237,\n",
       " inf]"
      ]
     },
     "execution_count": 66,
     "metadata": {},
     "output_type": "execute_result"
    }
   ],
   "source": [
    "dico1['[100]']"
   ]
  },
  {
   "cell_type": "code",
   "execution_count": 65,
   "metadata": {},
   "outputs": [
    {
     "data": {
      "text/plain": [
       "[19.28366274454855,\n",
       " 4.9595299073104,\n",
       " 108.30748187455026,\n",
       " 44.89718711561237,\n",
       " inf,\n",
       " 2659.6492449779516]"
      ]
     },
     "execution_count": 65,
     "metadata": {},
     "output_type": "execute_result"
    }
   ],
   "source": [
    "dico2['[100]']"
   ]
  },
  {
   "cell_type": "code",
   "execution_count": 55,
   "metadata": {},
   "outputs": [
    {
     "data": {
      "text/plain": [
       "[5, 5, 5, 5, 5, 5, 5, 5, 5, 5, 5, 5, 5, 5]"
      ]
     },
     "execution_count": 55,
     "metadata": {},
     "output_type": "execute_result"
    }
   ],
   "source": [
    "[len(dico1[key]) for key in dico1.keys()]"
   ]
  },
  {
   "cell_type": "code",
   "execution_count": 56,
   "metadata": {},
   "outputs": [
    {
     "data": {
      "text/plain": [
       "[6, 5, 5, 5, 6, 6, 5, 5, 5, 5, 6, 5, 5, 5]"
      ]
     },
     "execution_count": 56,
     "metadata": {},
     "output_type": "execute_result"
    }
   ],
   "source": [
    "[len(dico2[key]) for key in dico2.keys()]"
   ]
  },
  {
   "cell_type": "code",
   "execution_count": 30,
   "metadata": {},
   "outputs": [],
   "source": [
    "dico1=json.load(open('./results/global_evaluation/evaluation_with_RMSE_of_1D_models_on_pandemic_1_56_and_reach_=14.json'))\n",
    "dico2=json.load(open('./results/global_evaluation_bis/evaluation_with_RMSE_of_1D_models_on_pandemic_1_56_and_reach_=14.json'))"
   ]
  },
  {
   "cell_type": "code",
   "execution_count": 39,
   "metadata": {},
   "outputs": [
    {
     "data": {
      "text/plain": [
       "[134.47342316118494,\n",
       " 157.15727080617887,\n",
       " 184.57142857142856,\n",
       " 3.8000117282869894,\n",
       " 208.62806814940024,\n",
       " 4.335793311038259,\n",
       " inf,\n",
       " 3541.523132395607,\n",
       " 177.55635197751565,\n",
       " 2.294113566538215]"
      ]
     },
     "execution_count": 39,
     "metadata": {},
     "output_type": "execute_result"
    }
   ],
   "source": [
    "dico2['[40]'].index(np.inf)\n",
    "dico2['[40]']"
   ]
  },
  {
   "cell_type": "code",
   "execution_count": 42,
   "metadata": {},
   "outputs": [
    {
     "data": {
      "text/plain": [
       "[134.47342316118494,\n",
       " 157.15727080617887,\n",
       " 184.57142857142856,\n",
       " 3.8000117282869894,\n",
       " 208.62806814940024,\n",
       " 4.335793311038259,\n",
       " inf,\n",
       " 177.55635197751565,\n",
       " 2.294113566538215]"
      ]
     },
     "execution_count": 42,
     "metadata": {},
     "output_type": "execute_result"
    }
   ],
   "source": [
    "dico1['[40]']"
   ]
  },
  {
   "cell_type": "code",
   "execution_count": 35,
   "metadata": {},
   "outputs": [
    {
     "data": {
      "text/plain": [
       "[134.47342316118494,\n",
       " 157.15727080617887,\n",
       " 184.57142857142856,\n",
       " 3.8000117282869894,\n",
       " 208.62806814940024,\n",
       " 4.335793311038259,\n",
       " inf,\n",
       " 177.55635197751565,\n",
       " 2.294113566538215]"
      ]
     },
     "execution_count": 35,
     "metadata": {},
     "output_type": "execute_result"
    }
   ],
   "source": [
    "dico1['[40]']"
   ]
  },
  {
   "cell_type": "code",
   "execution_count": 25,
   "metadata": {},
   "outputs": [
    {
     "data": {
      "text/plain": [
       "992"
      ]
     },
     "execution_count": 25,
     "metadata": {},
     "output_type": "execute_result"
    }
   ],
   "source": [
    "count=0\n",
    "for name in names2: \n",
    "    thisname=True\n",
    "    dico = json.load(open('./results/global_evaluation_bis/'+name))\n",
    "    for key in dico.keys(): \n",
    "        if len(dico[key]) != 5 and len(dico[key]) != 9  : \n",
    "            thisname=False\n",
    "    if not thisname : \n",
    "        count+=1\n",
    "\n",
    "count"
   ]
  },
  {
   "cell_type": "code",
   "execution_count": 9,
   "metadata": {},
   "outputs": [
    {
     "data": {
      "text/plain": [
       "'evaluation_with_RMSE_of_1D_models_on_pandemic_0_0_and_reach_=14.json'"
      ]
     },
     "execution_count": 9,
     "metadata": {},
     "output_type": "execute_result"
    }
   ],
   "source": [
    "names1[0]"
   ]
  },
  {
   "cell_type": "code",
   "execution_count": 13,
   "metadata": {},
   "outputs": [
    {
     "data": {
      "text/plain": [
       "{'[20]': [1.413168584642551,\n",
       "  inf,\n",
       "  inf,\n",
       "  5.285714285714286,\n",
       "  0.18268177975863686,\n",
       "  2.5967502168151295],\n",
       " '[40]': [10.393103219137053,\n",
       "  16.452259950969953,\n",
       "  16.57142857142857,\n",
       "  9.233944248738183,\n",
       "  13.994509894153556],\n",
       " '[60]': [0.3247170199723328,\n",
       "  17.085830498834184,\n",
       "  7.857142857142858,\n",
       "  1.5874418812889317,\n",
       "  3.366352117644727],\n",
       " '[80]': [2.9677324235914497,\n",
       "  8.05793556092516,\n",
       "  13.42857142857143,\n",
       "  15.860532018314117,\n",
       "  4.664744673829432],\n",
       " '[100]': [20.759467412102595,\n",
       "  15.648772856635333,\n",
       "  57.857142857142854,\n",
       "  20.32439413118155,\n",
       "  inf,\n",
       "  45.581492168796814],\n",
       " '[120]': [42.845094178873865,\n",
       "  94.90723571291085,\n",
       "  95.0,\n",
       "  19.802584283240265,\n",
       "  47.26744556368328],\n",
       " '[140]': [0.984209181847632,\n",
       "  29.82974828497555,\n",
       "  135.0,\n",
       "  80.68755859950795,\n",
       "  7.769652361671035],\n",
       " '[160]': [35.418114412879845,\n",
       "  229.3009217895717,\n",
       "  164.0,\n",
       "  88.61636986649944,\n",
       "  35.11633178475529],\n",
       " '[180]': [21.651764423740588,\n",
       "  162.78652261946695,\n",
       "  263.57142857142856,\n",
       "  122.34221504804191,\n",
       "  91.27818459127138],\n",
       " '[200]': [66.8656483841271,\n",
       "  99733353273331.64,\n",
       "  1150.4285714285716,\n",
       "  529.1007401774375,\n",
       "  408.5013200409412],\n",
       " '[220]': [125.5636871430379,\n",
       "  5.286517541061383e+36,\n",
       "  2077.0,\n",
       "  1339.3857843868127,\n",
       "  575.5935833356448],\n",
       " '[240]': [236.1565245754191,\n",
       "  9.212228936173792e+37,\n",
       "  1579.2857142857147,\n",
       "  2810.7664574407004,\n",
       "  147.03018350739057],\n",
       " '[260]': [277.0723334803761,\n",
       "  9.294507090120132e+42,\n",
       "  1709.4285714285716,\n",
       "  2336.7035956711525,\n",
       "  1428.4757921125456],\n",
       " '[280]': [183.72518313952332,\n",
       "  6.025016557371418e+61,\n",
       "  2301.142857142857,\n",
       "  724.8871207614325,\n",
       "  840.5966782014434]}"
      ]
     },
     "execution_count": 13,
     "metadata": {},
     "output_type": "execute_result"
    }
   ],
   "source": [
    "dicotest=json.load(open('./results/global_evaluation_bis/'+'evaluation_with_RMSE_of_3D_models_on_pandemic_0_10_and_reach_=14.json'))\n",
    "dicotest"
   ]
  }
 ],
 "metadata": {
  "kernelspec": {
   "display_name": "env_qcm",
   "language": "python",
   "name": "python3"
  },
  "language_info": {
   "codemirror_mode": {
    "name": "ipython",
    "version": 3
   },
   "file_extension": ".py",
   "mimetype": "text/x-python",
   "name": "python",
   "nbconvert_exporter": "python",
   "pygments_lexer": "ipython3",
   "version": "3.8.17"
  }
 },
 "nbformat": 4,
 "nbformat_minor": 2
}
