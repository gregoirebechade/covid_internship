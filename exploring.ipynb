{
 "cells": [
  {
   "cell_type": "code",
   "execution_count": 1,
   "metadata": {},
   "outputs": [
    {
     "name": "stdout",
     "output_type": "stream",
     "text": [
      "Covasim 3.1.6 (2024-01-28) — © 2020-2024 by IDM\n"
     ]
    }
   ],
   "source": [
    "import covasim as cv\n",
    "import matplotlib.pyplot as plt\n",
    "import numpy as np"
   ]
  },
  {
   "cell_type": "code",
   "execution_count": 2,
   "metadata": {},
   "outputs": [],
   "source": [
    "start_day = '2020-03-02'\n",
    "end_day   = '2020-06-01'\n",
    "all_days = cv.date_range(start_day, end_day)\n"
   ]
  },
  {
   "cell_type": "code",
   "execution_count": 3,
   "metadata": {},
   "outputs": [],
   "source": [
    "# defining a moving beta accoding to the article predicting regional covid 19 hospital admissions in Sweden using mobility data\n",
    "\n",
    "mobility='''0\n",
    "-0,0436877025562212\n",
    "-0,142183890633573\n",
    "-0,414264196497882\n",
    "-0,490226517606742\n",
    "-0,520691444229291\n",
    "-0,601104998394856\n",
    "-0,565468289968282\n",
    "-0,500887028474234\n",
    "-0,533539503417897\n",
    "-0,489363271950639\n",
    "-0,479732407975015\n",
    "-0,525650201055078\n",
    "-0,4254\n",
    "-0,4325\n",
    "-0,394\n",
    "-0,53\n",
    "-0,47\n",
    "-0,5\n",
    "-0,53\n",
    "-0,56\n",
    "-0,55\n",
    "-0,53\n",
    "-0,5\n",
    "-0,47\n",
    "-0,39\n",
    "-0,35\n",
    "-0,34\n",
    "-0,34\n",
    "-0,33\n",
    "-0,33\n",
    "-0,32\n",
    "-0,31\n",
    "-0,32\n",
    "-0,31\n",
    "-0,42\n",
    "-0,41\n",
    "-0,43\n",
    "-0,45\n",
    "-0,44\n",
    "-0,44\n",
    "-0,51\n",
    "-0,51\n",
    "-0,66\n",
    "-0,77\n",
    "'''.replace(',','.').split('\\n')\n",
    "\n",
    "\n",
    "floatmobility = [float(i) for i in mobility if i != '']\n",
    "betas = [ 4.11 + 6.68 * mob for mob in floatmobility]\n",
    "betas_by_week=np.array([betas[i//7] for i in range(len(all_days))])"
   ]
  },
  {
   "cell_type": "code",
   "execution_count": 7,
   "metadata": {},
   "outputs": [],
   "source": [
    "parameters_sweden=dict(pop_size=1608037,  #  10 368 969 is population in Sweden in 2019 according to https://www.worldometers.info/ \n",
    "                                             # 1608037 is the population in Stockholm in 2019 according to https://worldpopulationreview.com/\n",
    "\n",
    "                            start_day = start_day,\n",
    "                            end_day   = end_day,\n",
    "                            pop_type = 'hybrid',\n",
    "                            location = 'Sweden',\n",
    "                            pop_infected = 20, #value by default, TOCHANGE\n",
    "                            beta=0.015 # value to change\n",
    "                            )\n",
    "\n",
    "\n"
   ]
  },
  {
   "cell_type": "code",
   "execution_count": 8,
   "metadata": {},
   "outputs": [],
   "source": [
    "\n",
    "\n",
    "# interventions of changing beta\n",
    "cb = cv.change_beta(days=all_days, changes=betas_by_week, do_plot=False)\n"
   ]
  },
  {
   "cell_type": "code",
   "execution_count": 9,
   "metadata": {},
   "outputs": [
    {
     "name": "stdout",
     "output_type": "stream",
     "text": [
      "Initializing sim with 1608037 people for 91 days\n",
      "Loading location-specific data for \"Sweden\"\n",
      "  Running \"Varying $\\beta$ with mobility\": 2020-03-02 ( 0/91) (29.71 s)  ———————————————————— 1%\n",
      "  Running \"Varying $\\beta$ with mobility\": 2020-03-12 (10/91) (39.07 s)  ••—————————————————— 12%\n",
      "  Running \"Varying $\\beta$ with mobility\": 2020-03-22 (20/91) (50.13 s)  ••••———————————————— 23%\n",
      "  Running \"Varying $\\beta$ with mobility\": 2020-04-01 (30/91) (61.43 s)  ••••••—————————————— 34%\n",
      "  Running \"Varying $\\beta$ with mobility\": 2020-04-11 (40/91) (70.46 s)  ••••••••———————————— 45%\n"
     ]
    }
   ],
   "source": [
    "my_simulation_sweden_interventions=cv.Sim(parameters_sweden, interventions=cb, label=r'Varying $\\beta$ with mobility' )\n",
    "my_simulation_sweden_interventions.run()\n",
    "my_simulation_sweden_interventions.plot()\n"
   ]
  },
  {
   "cell_type": "code",
   "execution_count": 38,
   "metadata": {},
   "outputs": [
    {
     "data": {
      "image/png": "[encoded data removed]",
      "text/plain": [
       "<Figure size 640x480 with 1 Axes>"
      ]
     },
     "metadata": {},
     "output_type": "display_data"
    }
   ],
   "source": [
    "plt.plot(np.array(my_simulation_sweden_interventions.results['cum_deaths']))\n",
    "plt.show()"
   ]
  }
 ],
 "metadata": {
  "kernelspec": {
   "display_name": "env_qcm",
   "language": "python",
   "name": "python3"
  },
  "language_info": {
   "codemirror_mode": {
    "name": "ipython",
    "version": 3
   },
   "file_extension": ".py",
   "mimetype": "text/x-python",
   "name": "python",
   "nbconvert_exporter": "python",
   "pygments_lexer": "ipython3",
   "version": "3.8.17"
  }
 },
 "nbformat": 4,
 "nbformat_minor": 2
}
