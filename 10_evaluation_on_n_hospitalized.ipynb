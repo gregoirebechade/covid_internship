{
 "cells": [
  {
   "cell_type": "code",
   "execution_count": 1,
   "metadata": {},
   "outputs": [],
   "source": [
    "import numpy as np\n",
    "import pandas as pd\n",
    "import matplotlib.pyplot as plt\n",
    "import sys\n",
    "sys.path.append('./models/')\n",
    "from SIRH import *\n",
    "import os\n",
    "from SIRD_h import SIRD_h\n"
   ]
  },
  {
   "cell_type": "code",
   "execution_count": 2,
   "metadata": {},
   "outputs": [],
   "source": [
    "df=pd.read_csv('hopitalized_and_infectious.csv')\n",
    "df.drop(['Unnamed: 0'], axis=1, inplace=True)\n",
    "n_hospitalized=np.array(df['hospitalized'])\n",
    "n_infectious=np.array(df['n_infectious'])"
   ]
  },
  {
   "cell_type": "code",
   "execution_count": 3,
   "metadata": {},
   "outputs": [],
   "source": [
    "# importing mobility from the csv file\n",
    "df_mobility=pd.read_csv('mobility_bis.csv')\n",
    "df_mobility.drop(columns=['Unnamed: 0'], inplace=True)\n",
    "mobility=np.array(df_mobility['mobility'])\n",
    "\n",
    "relier_les_points=[]\n",
    "for i in range(len(mobility)): \n",
    "    if i + 7 < len(mobility): \n",
    "        if i % 7 ==0:\n",
    "            relier_les_points.append(mobility[i])\n",
    "        else: \n",
    "            decalage=i-7*(i//7)\n",
    "            res = (1-decalage/7)*mobility[7*(i//7)] + (decalage/7)*mobility[7*(i//7)+7]\n",
    "\n",
    "            relier_les_points.append(res)\n",
    "    else:\n",
    "        relier_les_points.append(mobility[i])\n",
    "mobility_smoothed=np.array(relier_les_points)\n",
    "data3D=np.array([n_hospitalized, n_infectious, mobility_smoothed])"
   ]
  },
  {
   "cell_type": "code",
   "execution_count": 4,
   "metadata": {},
   "outputs": [],
   "source": [
    "s_0=1000000 -1\n",
    "i_0=1\n",
    "r_0=0\n",
    "h_0=0\n",
    "t=len(n_hospitalized)\n",
    "dt=0.001\n",
    "split=250\n",
    "data_train=np.array([n_hospitalized[:split], n_infectious[:split], mobility_smoothed[:split]])\n",
    "train_dates=[i for i in range(len(data_train))]"
   ]
  },
  {
   "cell_type": "code",
   "execution_count": 7,
   "metadata": {},
   "outputs": [
    {
     "ename": "AttributeError",
     "evalue": "'SIRD_model_2' object has no attribute 'gamma_constant'",
     "output_type": "error",
     "traceback": [
      "\u001b[1;31m---------------------------------------------------------------------------\u001b[0m",
      "\u001b[1;31mAttributeError\u001b[0m                            Traceback (most recent call last)",
      "Cell \u001b[1;32mIn[7], line 2\u001b[0m\n\u001b[0;32m      1\u001b[0m my_sirdh\u001b[38;5;241m=\u001b[39mSIRD_h()\n\u001b[1;32m----> 2\u001b[0m \u001b[43mmy_sirdh\u001b[49m\u001b[38;5;241;43m.\u001b[39;49m\u001b[43mtrain\u001b[49m\u001b[43m(\u001b[49m\u001b[43mtrain_dates\u001b[49m\u001b[43m,\u001b[49m\u001b[43m \u001b[49m\u001b[43mdata_train\u001b[49m\u001b[43m[\u001b[49m\u001b[38;5;241;43m0\u001b[39;49m\u001b[43m]\u001b[49m\u001b[43m)\u001b[49m\n\u001b[0;32m      3\u001b[0m my_sirdh\u001b[38;5;241m.\u001b[39mchoose_model(\u001b[38;5;28;01mTrue\u001b[39;00m, \u001b[38;5;28;01mTrue\u001b[39;00m)\n\u001b[0;32m      4\u001b[0m my_sirdh\u001b[38;5;241m.\u001b[39mpredict(\u001b[38;5;241m7\u001b[39m, \u001b[38;5;241m0.05\u001b[39m)\n",
      "File \u001b[1;32mc:\\Users\\grego\\Documents\\code\\covid_internship\\./models\\SIRD_h.py:23\u001b[0m, in \u001b[0;36mSIRD_h.train\u001b[1;34m(self, train_dates, data)\u001b[0m\n\u001b[0;32m     21\u001b[0m new_data\u001b[38;5;241m=\u001b[39mnp\u001b[38;5;241m.\u001b[39mconcatenate((zer, new_hospitalized))\n\u001b[0;32m     22\u001b[0m \u001b[38;5;28;01massert\u001b[39;00m \u001b[38;5;28mlen\u001b[39m(new_data)\u001b[38;5;241m==\u001b[39m\u001b[38;5;28mlen\u001b[39m(data)\n\u001b[1;32m---> 23\u001b[0m \u001b[38;5;28;43mself\u001b[39;49m\u001b[38;5;241;43m.\u001b[39;49m\u001b[43mmodel\u001b[49m\u001b[38;5;241;43m.\u001b[39;49m\u001b[43mtrain\u001b[49m\u001b[43m(\u001b[49m\u001b[43mtrain_dates\u001b[49m\u001b[43m,\u001b[49m\u001b[43m \u001b[49m\u001b[43mnew_data\u001b[49m\u001b[43m)\u001b[49m\n\u001b[0;32m     24\u001b[0m \u001b[38;5;28mself\u001b[39m\u001b[38;5;241m.\u001b[39mtrained\u001b[38;5;241m=\u001b[39m\u001b[38;5;28;01mTrue\u001b[39;00m\n",
      "File \u001b[1;32mc:\\Users\\grego\\Documents\\code\\covid_internship\\./models\\SIRD.py:175\u001b[0m, in \u001b[0;36mSIRD_model_2.train\u001b[1;34m(self, train_dates, data)\u001b[0m\n\u001b[0;32m    173\u001b[0m \u001b[38;5;28mself\u001b[39m\u001b[38;5;241m.\u001b[39mdata\u001b[38;5;241m=\u001b[39mdata\n\u001b[0;32m    174\u001b[0m \u001b[38;5;28mself\u001b[39m\u001b[38;5;241m.\u001b[39mtrain_dates\u001b[38;5;241m=\u001b[39mtrain_dates\n\u001b[1;32m--> 175\u001b[0m gamma_constant\u001b[38;5;241m=\u001b[39m\u001b[38;5;28;43mself\u001b[39;49m\u001b[38;5;241;43m.\u001b[39;49m\u001b[43mgamma_constant\u001b[49m\n\u001b[0;32m    176\u001b[0m \u001b[38;5;28;01mif\u001b[39;00m gamma_constant: \n\u001b[0;32m    177\u001b[0m     \u001b[38;5;28mprint\u001b[39m(\u001b[38;5;124m'\u001b[39m\u001b[38;5;124mgamma constant\u001b[39m\u001b[38;5;124m'\u001b[39m)\n",
      "\u001b[1;31mAttributeError\u001b[0m: 'SIRD_model_2' object has no attribute 'gamma_constant'"
     ]
    }
   ],
   "source": [
    "my_sirdh=SIRD_h()\n",
    "my_sirdh.train(train_dates, data_train[0])\n",
    "my_sirdh.choose_model(True, True)\n",
    "my_sirdh.predict(7, 0.05)"
   ]
  }
 ],
 "metadata": {
  "kernelspec": {
   "display_name": "env_qcm",
   "language": "python",
   "name": "python3"
  },
  "language_info": {
   "codemirror_mode": {
    "name": "ipython",
    "version": 3
   },
   "file_extension": ".py",
   "mimetype": "text/x-python",
   "name": "python",
   "nbconvert_exporter": "python",
   "pygments_lexer": "ipython3",
   "version": "3.8.17"
  }
 },
 "nbformat": 4,
 "nbformat_minor": 2
}
