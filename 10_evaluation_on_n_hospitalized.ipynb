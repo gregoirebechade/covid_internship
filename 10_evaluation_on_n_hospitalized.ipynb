{
 "cells": [
  {
   "cell_type": "code",
   "execution_count": 1,
   "metadata": {},
   "outputs": [
    {
     "name": "stderr",
     "output_type": "stream",
     "text": [
      "c:\\Users\\grego\\Documents\\code\\covid_internship\\./models\\SIRD.py:218: SyntaxWarning: assertion is always true, perhaps remove parentheses?\n",
      "  assert(len(vars)==reach, str(len(vars)) + 'different from ' + str(reach))\n"
     ]
    }
   ],
   "source": [
    "import numpy as np\n",
    "import pandas as pd\n",
    "import matplotlib.pyplot as plt\n",
    "import sys\n",
    "sys.path.append('./models/')\n",
    "from SIRH import *\n",
    "import os\n",
    "from SIRD_h import SIRD_h\n"
   ]
  },
  {
   "cell_type": "code",
   "execution_count": 2,
   "metadata": {},
   "outputs": [],
   "source": [
    "df=pd.read_csv('hopitalized_and_infectious.csv')\n",
    "df.drop(['Unnamed: 0'], axis=1, inplace=True)\n",
    "n_hospitalized=np.array(df['hospitalized'])\n",
    "n_infectious=np.array(df['n_infectious'])"
   ]
  },
  {
   "cell_type": "code",
   "execution_count": 3,
   "metadata": {},
   "outputs": [],
   "source": [
    "# importing mobility from the csv file\n",
    "df_mobility=pd.read_csv('mobility_bis.csv')\n",
    "df_mobility.drop(columns=['Unnamed: 0'], inplace=True)\n",
    "mobility=np.array(df_mobility['mobility'])\n",
    "\n",
    "relier_les_points=[]\n",
    "for i in range(len(mobility)): \n",
    "    if i + 7 < len(mobility): \n",
    "        if i % 7 ==0:\n",
    "            relier_les_points.append(mobility[i])\n",
    "        else: \n",
    "            decalage=i-7*(i//7)\n",
    "            res = (1-decalage/7)*mobility[7*(i//7)] + (decalage/7)*mobility[7*(i//7)+7]\n",
    "\n",
    "            relier_les_points.append(res)\n",
    "    else:\n",
    "        relier_les_points.append(mobility[i])\n",
    "mobility_smoothed=np.array(relier_les_points)\n",
    "data3D=np.array([n_hospitalized, n_infectious, mobility_smoothed])"
   ]
  },
  {
   "cell_type": "code",
   "execution_count": 4,
   "metadata": {},
   "outputs": [],
   "source": [
    "s_0=1000000 -1\n",
    "i_0=1\n",
    "r_0=0\n",
    "h_0=0\n",
    "t=len(n_hospitalized)\n",
    "dt=0.001\n",
    "split=250\n",
    "data_train=np.array([n_hospitalized[:split], n_infectious[:split], mobility_smoothed[:split]])"
   ]
  },
  {
   "cell_type": "code",
   "execution_count": 5,
   "metadata": {},
   "outputs": [],
   "source": [
    "my_sirdh=SIRD_h()"
   ]
  }
 ],
 "metadata": {
  "kernelspec": {
   "display_name": "env_qcm",
   "language": "python",
   "name": "python3"
  },
  "language_info": {
   "codemirror_mode": {
    "name": "ipython",
    "version": 3
   },
   "file_extension": ".py",
   "mimetype": "text/x-python",
   "name": "python",
   "nbconvert_exporter": "python",
   "pygments_lexer": "ipython3",
   "version": "3.8.17"
  }
 },
 "nbformat": 4,
 "nbformat_minor": 2
}
