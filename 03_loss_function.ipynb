{
 "cells": [
  {
   "cell_type": "code",
   "execution_count": 3,
   "metadata": {},
   "outputs": [],
   "source": [
    "import numpy as np\n",
    "import pandas as pd"
   ]
  },
  {
   "cell_type": "code",
   "execution_count": 4,
   "metadata": {},
   "outputs": [],
   "source": [
    "df = pd.read_csv('deaths_and_infections.csv')\n",
    "df.drop(columns=['Unnamed: 0'], inplace=True)\n",
    "new_deaths=np.array(df['new_deaths'])\n",
    "death_cumul=np.array([sum(new_deaths[:i]) for i in range(len(new_deaths))])\n",
    "dates_of_pandemic=np.arange(len(new_deaths))"
   ]
  },
  {
   "cell_type": "code",
   "execution_count": null,
   "metadata": {},
   "outputs": [],
   "source": [
    "def IS(interval : tuple, point : float, alpha: float) -> float: \n",
    "    assert interval[0] < interval[1]\n",
    "    assert alpha >= 0\n",
    "    assert alpha <= 1\n",
    "    l=interval[0]\n",
    "    u = interval[1]\n",
    "    dispersion = u-l\n",
    "    if point < l : \n",
    "        underprediction= (2/alpha)*(l-point)\n",
    "    else: \n",
    "        underprediction=0\n",
    "    if point > u :\n",
    "        overprediction = (2/alpha)*(point-u)\n",
    "    return underprediction + overprediction + dispersion\n"
   ]
  },
  {
   "cell_type": "code",
   "execution_count": null,
   "metadata": {},
   "outputs": [],
   "source": [
    "def WIS(prediction: float, interval : tuple, point_of_evaluation : float, alphas: list, weights: list) -> float:\n",
    "    \"\"\"\n",
    "\n",
    "    WIS computes the Weighted Interval Score of a model that predicts a point and a list of confidence intervals.\n",
    "    The fuction taks as an input a prediction, a list of confidence intervals of precision alpha, a list of weights to apply to the different intervals and a point to evaluate the prediction on.\n",
    "    \n",
    "    \"\"\" \n",
    "    assert interval[0] < interval[1]\n",
    "    assert all([alpha >= 0 for alpha in alphas])\n",
    "    assert all([alpha <= 1 for alpha in alphas])\n",
    "    K = len(alphas)\n",
    "    loss=0\n",
    "    for k in range(1, K): \n",
    "        loss += weights[k]*IS(interval, point_of_evaluation, alphas[k])\n",
    "    loss += weights[0]* abs(prediction - point_of_evaluation)\n",
    "    return loss\n"
   ]
  },
  {
   "cell_type": "code",
   "execution_count": null,
   "metadata": {},
   "outputs": [],
   "source": [
    "def evaluate_model(model: Model, data: np.array, alphas: list, evaluation_point_indexs: list, reach: int, weights: list) -> float: \n",
    "    \n",
    "    loss=0\n",
    "\n",
    "    for index in evaluation_point_indexs: \n",
    "        model.train(data[:index])\n",
    "        prediction, intervals = model.predict(reach, alphas) \n",
    "\n",
    "        for i in range(len(intervals)):\n",
    "            interval = intervals[i] \n",
    "            loss+=WIS(prediction=prediction, interval = interval, point_of_evaluation = data[index+range], alphas = alphas , weights = weights)\n",
    "    \n",
    "    return loss / len(evaluation_point_indexs) # average loss over all evaluation points\n"
   ]
  }
 ],
 "metadata": {
  "kernelspec": {
   "display_name": "env_qcm",
   "language": "python",
   "name": "python3"
  },
  "language_info": {
   "codemirror_mode": {
    "name": "ipython",
    "version": 3
   },
   "file_extension": ".py",
   "mimetype": "text/x-python",
   "name": "python",
   "nbconvert_exporter": "python",
   "pygments_lexer": "ipython3",
   "version": "3.8.17"
  }
 },
 "nbformat": 4,
 "nbformat_minor": 2
}
